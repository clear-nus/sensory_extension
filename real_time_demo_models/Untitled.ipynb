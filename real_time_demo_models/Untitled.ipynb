{
 "cells": [
  {
   "cell_type": "code",
   "execution_count": 1,
   "id": "compound-mandate",
   "metadata": {},
   "outputs": [],
   "source": [
    "import pandas as pd\n",
    "import numpy as np\n",
    "import matplotlib.pyplot as plt\n",
    "import pickle\n",
    "\n",
    "from utils import read_neutouch_raw, infer, bin_neutouch_signal"
   ]
  },
  {
   "cell_type": "code",
   "execution_count": 2,
   "id": "premium-thursday",
   "metadata": {},
   "outputs": [],
   "source": [
    "# def load_model(tool_length):\n",
    "#     gs_estimator = pickle.load(open('tool' + str(tool_length) +'_fft_svmrbf.pkl', 'rb'))\n",
    "#     return gs_estimator"
   ]
  },
  {
   "cell_type": "code",
   "execution_count": 3,
   "id": "accompanied-bhutan",
   "metadata": {},
   "outputs": [],
   "source": [
    "# def read_neutouch_raw(filepath):\n",
    "    \n",
    "#     df = pd.read_csv(filepath,\n",
    "#                      names=['isPos', 'taxel', 'removable', 't'],\n",
    "#                      dtype={'isPos': int , 'taxel': int, 'removable': int, 't': float},\n",
    "#                      sep=' ')\n",
    "    \n",
    "#     df.drop(['removable'], axis=1, inplace=True)\n",
    "#     df.drop(df.tail(1).index, inplace=True)\n",
    "#     df.drop(df.head(1).index, inplace=True)\n",
    "    \n",
    "#     return df.reset_index(drop=True)"
   ]
  },
  {
   "cell_type": "code",
   "execution_count": 4,
   "id": "constant-anime",
   "metadata": {},
   "outputs": [],
   "source": [
    "tool_length = 30\n",
    "trial = 10\n",
    "df_raw = read_neutouch_raw(f'/datasets/sensory_ext/data/neutouch/tool_neutouch_1k/trial{trial}_{tool_length}.tact')\n",
    "#df_raw = df_raw.iloc[]\n",
    "df_essentials = pd.read_csv(f'/datasets/sensory_ext/data/neutouch/tool_neutouch_1k/trial{trial}_{tool_length}_essentials.csv')\n",
    "#df_essentials = df_essentials.iloc[]"
   ]
  },
  {
   "cell_type": "code",
   "execution_count": 5,
   "id": "comfortable-river",
   "metadata": {},
   "outputs": [
    {
     "data": {
      "text/html": [
       "<div>\n",
       "<style scoped>\n",
       "    .dataframe tbody tr th:only-of-type {\n",
       "        vertical-align: middle;\n",
       "    }\n",
       "\n",
       "    .dataframe tbody tr th {\n",
       "        vertical-align: top;\n",
       "    }\n",
       "\n",
       "    .dataframe thead th {\n",
       "        text-align: right;\n",
       "    }\n",
       "</style>\n",
       "<table border=\"1\" class=\"dataframe\">\n",
       "  <thead>\n",
       "    <tr style=\"text-align: right;\">\n",
       "      <th></th>\n",
       "      <th>original_index</th>\n",
       "      <th>t</th>\n",
       "      <th>label_y</th>\n",
       "    </tr>\n",
       "  </thead>\n",
       "  <tbody>\n",
       "    <tr>\n",
       "      <th>0</th>\n",
       "      <td>699</td>\n",
       "      <td>1.613139e+09</td>\n",
       "      <td>0.199787</td>\n",
       "    </tr>\n",
       "    <tr>\n",
       "      <th>1</th>\n",
       "      <td>789</td>\n",
       "      <td>1.613139e+09</td>\n",
       "      <td>0.080649</td>\n",
       "    </tr>\n",
       "    <tr>\n",
       "      <th>2</th>\n",
       "      <td>881</td>\n",
       "      <td>1.613139e+09</td>\n",
       "      <td>0.126195</td>\n",
       "    </tr>\n",
       "    <tr>\n",
       "      <th>3</th>\n",
       "      <td>962</td>\n",
       "      <td>1.613139e+09</td>\n",
       "      <td>0.152468</td>\n",
       "    </tr>\n",
       "    <tr>\n",
       "      <th>4</th>\n",
       "      <td>1041</td>\n",
       "      <td>1.613139e+09</td>\n",
       "      <td>0.249933</td>\n",
       "    </tr>\n",
       "  </tbody>\n",
       "</table>\n",
       "</div>"
      ],
      "text/plain": [
       "   original_index             t   label_y\n",
       "0             699  1.613139e+09  0.199787\n",
       "1             789  1.613139e+09  0.080649\n",
       "2             881  1.613139e+09  0.126195\n",
       "3             962  1.613139e+09  0.152468\n",
       "4            1041  1.613139e+09  0.249933"
      ]
     },
     "execution_count": 5,
     "metadata": {},
     "output_type": "execute_result"
    }
   ],
   "source": [
    "df_essentials.head()"
   ]
  },
  {
   "cell_type": "code",
   "execution_count": 6,
   "id": "round-universal",
   "metadata": {},
   "outputs": [],
   "source": [
    "# def bin_neutouch_signal(tap_time, df_raw, time_past, time_future, time_interval):\n",
    "\n",
    "#     n_bins = int((time_past + time_future) / time_interval) + 1\n",
    "#     signal = np.zeros([1, 80, n_bins], dtype=int)\n",
    "\n",
    "\n",
    "#     df_timespan = df_raw[(df_raw.t >= (tap_time - time_past)) & (df_raw.t < (tap_time + time_future))]\n",
    "#     print(df_timespan.shape)\n",
    "#     df_positive = df_timespan[df_timespan.isPos == 1]\n",
    "#     df_negative = df_timespan[df_timespan.isPos == 0]\n",
    "\n",
    "#     t = tap_time - time_past\n",
    "#     k = 0\n",
    "\n",
    "#     while t < (tap_time + time_future):\n",
    "\n",
    "#         positive_taxels = df_positive[((df_positive.t >= t) & (df_positive.t < t + time_interval))].taxel\n",
    "#         if len(positive_taxels):\n",
    "#             for taxel in positive_taxels:\n",
    "#                 signal[0, taxel - 1, k] += 1\n",
    "\n",
    "#         negative_taxels = df_negative[((df_negative.t >= t) & (df_negative.t < t + time_interval))].taxel\n",
    "#         if len(negative_taxels):\n",
    "#             for taxel in negative_taxels:\n",
    "#                 signal[0, taxel - 1, k] -= 1\n",
    "\n",
    "#         t += time_interval\n",
    "#         k += 1\n",
    "    \n",
    "#     return signal  "
   ]
  },
  {
   "cell_type": "code",
   "execution_count": 7,
   "id": "compatible-comfort",
   "metadata": {},
   "outputs": [],
   "source": [
    "# def infer(X):\n",
    "#     X = X / 1000\n",
    "#     X = np.abs(np.fft.fft(X)) / 10\n",
    "#     X = np.reshape(X, (X.shape[0], -1))\n",
    "#     y = gs_estimator.predict(X)\n",
    "#     return y"
   ]
  },
  {
   "cell_type": "code",
   "execution_count": 8,
   "id": "affecting-copper",
   "metadata": {},
   "outputs": [],
   "source": [
    "tapped_times = df_essentials.t.values\n",
    "\n",
    "all_values = []\n",
    "for i, row in df_essentials.iterrows():\n",
    "    t, label  = row.t, row.label_y\n",
    "    y_pred = infer( bin_neutouch_signal(t, df_raw, 0.05, 0.25, 0.005), tool_length)[0]\n",
    "    all_values.append([label, y_pred])"
   ]
  },
  {
   "cell_type": "code",
   "execution_count": 9,
   "id": "muslim-henry",
   "metadata": {},
   "outputs": [
    {
     "data": {
      "text/plain": [
       "[<matplotlib.lines.Line2D at 0x7f5c4b3e2690>]"
      ]
     },
     "execution_count": 9,
     "metadata": {},
     "output_type": "execute_result"
    },
    {
     "data": {
      "image/png": "[encoded data removed]",
      "text/plain": [
       "<Figure size 432x288 with 1 Axes>"
      ]
     },
     "metadata": {
      "needs_background": "light"
     },
     "output_type": "display_data"
    }
   ],
   "source": [
    "all_labels = np.array(all_values)\n",
    "\n",
    "plt.plot(all_labels[:,0]*100, all_labels[:,1], 'rx')"
   ]
  },
  {
   "cell_type": "code",
   "execution_count": 10,
   "id": "preceding-poetry",
   "metadata": {},
   "outputs": [
    {
     "data": {
      "text/plain": [
       "[[0.1997874407087244, 20.078983908536237],\n",
       " [0.0806490061794199, 8.165135785064656],\n",
       " [0.1261954484496988, 12.719655690909429],\n",
       " [0.1524675218377985, 17.216471527238664]]"
      ]
     },
     "execution_count": 10,
     "metadata": {},
     "output_type": "execute_result"
    }
   ],
   "source": [
    "all_values[:4]"
   ]
  },
  {
   "cell_type": "code",
   "execution_count": null,
   "id": "dressed-ceiling",
   "metadata": {},
   "outputs": [],
   "source": []
  }
 ],
 "metadata": {
  "kernelspec": {
   "display_name": "Python 3",
   "language": "python",
   "name": "python3"
  },
  "language_info": {
   "codemirror_mode": {
    "name": "ipython",
    "version": 3
   },
   "file_extension": ".py",
   "mimetype": "text/x-python",
   "name": "python",
   "nbconvert_exporter": "python",
   "pygments_lexer": "ipython3",
   "version": "3.7.4"
  }
 },
 "nbformat": 4,
 "nbformat_minor": 5
}
