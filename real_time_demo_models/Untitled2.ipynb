{
 "cells": [
  {
   "cell_type": "code",
   "execution_count": 4,
   "id": "loose-smooth",
   "metadata": {},
   "outputs": [],
   "source": [
    "import pandas as pd\n",
    "import numpy as np\n",
    "import matplotlib.pyplot as plt\n",
    "from sklearn.model_selection import train_test_split, GridSearchCV, ShuffleSplit\n",
    "from sklearn.svm import SVR, SVC\n",
    "from utils import read_neutouch_raw, infer, bin_neutouch_signal\n",
    "import glob"
   ]
  },
  {
   "cell_type": "code",
   "execution_count": 10,
   "id": "forbidden-japan",
   "metadata": {},
   "outputs": [],
   "source": [
    "#!unzip rod_tests_modified.zip\n",
    "data_dir = 'rod_tests/rod_test1'\n",
    "rods = ['rod20', 'rod30', 'rod50']"
   ]
  },
  {
   "cell_type": "code",
   "execution_count": 14,
   "id": "ceramic-central",
   "metadata": {},
   "outputs": [],
   "source": [
    "fnames = glob.glob(data_dir + '/' + rods[0] + '/*tact')\n",
    "fnames.sort()"
   ]
  },
  {
   "cell_type": "code",
   "execution_count": 15,
   "id": "painful-efficiency",
   "metadata": {},
   "outputs": [],
   "source": [
    "df_raw = read_neutouch_raw(fnames[0])"
   ]
  },
  {
   "cell_type": "code",
   "execution_count": 17,
   "id": "correct-washington",
   "metadata": {},
   "outputs": [],
   "source": [
    "tapped_times = np.loadtxt(data_dir + '/' + rods[0] + '/times.txt')"
   ]
  },
  {
   "cell_type": "code",
   "execution_count": 29,
   "id": "treated-switch",
   "metadata": {},
   "outputs": [],
   "source": [
    "time_past = 0.05\n",
    "time_future = 0.25\n",
    "\n",
    "def get_stats2(data_dir):\n",
    "    \n",
    "    interesting_taxels = [32, 22, 7, 17, 52, 42, 67, 77]\n",
    "    \n",
    "    for rod in rods:\n",
    "        fnames = glob.glob(data_dir + '/' + rod + '/*tact')\n",
    "        fnames.sort()\n",
    "        tapped_times = np.loadtxt(data_dir + '/' + rod + '/times.txt')\n",
    "\n",
    "        result = np.zeros((1, len(interesting_taxels) + 1))\n",
    "\n",
    "        for i, fname in enumerate(fnames):\n",
    "            tap_time = tapped_times[i]\n",
    "            df_raw = read_neutouch_raw(fname)\n",
    "            df_timespan = df_raw[(df_raw.t >= (tap_time - time_past)) & (df_raw.t < (tap_time + time_future))]\n",
    "            spikes = [len(df_timespan[(df_timespan.taxel==interesting_taxel) & (df_timespan.isPos==0)]) for interesting_taxel in interesting_taxels]\n",
    "            print(df_timespan.shape, spikes)\n",
    "            result = np.vstack((result, np.zeros((1, len(interesting_taxels) + 1))))\n",
    "            result[-1, :-1] = np.array(spikes)\n",
    "            result[-1, -1] = i/5\n",
    "            \n",
    "        #print(result)\n"
   ]
  },
  {
   "cell_type": "code",
   "execution_count": 30,
   "id": "phantom-belle",
   "metadata": {},
   "outputs": [
    {
     "name": "stdout",
     "output_type": "stream",
     "text": [
      "(272, 3) [0, 0, 0, 0, 0, 0, 0, 0]\n",
      "(0, 3) [0, 0, 0, 0, 0, 0, 0, 0]\n",
      "(0, 3) [0, 0, 0, 0, 0, 0, 0, 0]\n",
      "(0, 3) [0, 0, 0, 0, 0, 0, 0, 0]\n",
      "(0, 3) [0, 0, 0, 0, 0, 0, 0, 0]\n",
      "(0, 3) [0, 0, 0, 0, 0, 0, 0, 0]\n",
      "(0, 3) [0, 0, 0, 0, 0, 0, 0, 0]\n",
      "(0, 3) [0, 0, 0, 0, 0, 0, 0, 0]\n",
      "(0, 3) [0, 0, 0, 0, 0, 0, 0, 0]\n",
      "(0, 3) [0, 0, 0, 0, 0, 0, 0, 0]\n",
      "(4, 3) [0, 0, 0, 0, 0, 0, 0, 0]\n",
      "(177, 3) [0, 0, 5, 0, 0, 0, 0, 15]\n",
      "(0, 3) [0, 0, 0, 0, 0, 0, 0, 0]\n",
      "(0, 3) [0, 0, 0, 0, 0, 0, 0, 0]\n",
      "(0, 3) [0, 0, 0, 0, 0, 0, 0, 0]\n",
      "(0, 3) [0, 0, 0, 0, 0, 0, 0, 0]\n",
      "(0, 3) [0, 0, 0, 0, 0, 0, 0, 0]\n",
      "(0, 3) [0, 0, 0, 0, 0, 0, 0, 0]\n",
      "(0, 3) [0, 0, 0, 0, 0, 0, 0, 0]\n",
      "(0, 3) [0, 0, 0, 0, 0, 0, 0, 0]\n",
      "(0, 3) [0, 0, 0, 0, 0, 0, 0, 0]\n",
      "(0, 3) [0, 0, 0, 0, 0, 0, 0, 0]\n",
      "(0, 3) [0, 0, 0, 0, 0, 0, 0, 0]\n",
      "(0, 3) [0, 0, 0, 0, 0, 0, 0, 0]\n",
      "(0, 3) [0, 0, 0, 0, 0, 0, 0, 0]\n",
      "(992, 3) [0, 0, 12, 0, 0, 0, 0, 0]\n",
      "(0, 3) [0, 0, 0, 0, 0, 0, 0, 0]\n",
      "(0, 3) [0, 0, 0, 0, 0, 0, 0, 0]\n",
      "(0, 3) [0, 0, 0, 0, 0, 0, 0, 0]\n",
      "(0, 3) [0, 0, 0, 0, 0, 0, 0, 0]\n",
      "(0, 3) [0, 0, 0, 0, 0, 0, 0, 0]\n",
      "(0, 3) [0, 0, 0, 0, 0, 0, 0, 0]\n",
      "(0, 3) [0, 0, 0, 0, 0, 0, 0, 0]\n",
      "(0, 3) [0, 0, 0, 0, 0, 0, 0, 0]\n",
      "(0, 3) [0, 0, 0, 0, 0, 0, 0, 0]\n",
      "(0, 3) [0, 0, 0, 0, 0, 0, 0, 0]\n",
      "(0, 3) [0, 0, 0, 0, 0, 0, 0, 0]\n",
      "(0, 3) [0, 0, 0, 0, 0, 0, 0, 0]\n",
      "(0, 3) [0, 0, 0, 0, 0, 0, 0, 0]\n",
      "(0, 3) [0, 0, 0, 0, 0, 0, 0, 0]\n",
      "(0, 3) [0, 0, 0, 0, 0, 0, 0, 0]\n",
      "(0, 3) [0, 0, 0, 0, 0, 0, 0, 0]\n",
      "(0, 3) [0, 0, 0, 0, 0, 0, 0, 0]\n",
      "(0, 3) [0, 0, 0, 0, 0, 0, 0, 0]\n",
      "(0, 3) [0, 0, 0, 0, 0, 0, 0, 0]\n",
      "(0, 3) [0, 0, 0, 0, 0, 0, 0, 0]\n",
      "(0, 3) [0, 0, 0, 0, 0, 0, 0, 0]\n",
      "(0, 3) [0, 0, 0, 0, 0, 0, 0, 0]\n",
      "(0, 3) [0, 0, 0, 0, 0, 0, 0, 0]\n",
      "(0, 3) [0, 0, 0, 0, 0, 0, 0, 0]\n"
     ]
    }
   ],
   "source": [
    "get_stats2(data_dir)"
   ]
  },
  {
   "cell_type": "code",
   "execution_count": null,
   "id": "documented-mouse",
   "metadata": {},
   "outputs": [],
   "source": []
  },
  {
   "cell_type": "code",
   "execution_count": null,
   "id": "removed-livestock",
   "metadata": {},
   "outputs": [],
   "source": [
    "def get_stats(tool_length, trial):\n",
    "\n",
    "    df_raw = read_neutouch_raw(f'/datasets/sensory_ext/data/neutouch/tool_neutouch_1k/trial{trial}_{tool_length}.tact')\n",
    "    df_essentials = pd.read_csv(f'/datasets/sensory_ext/data/neutouch/tool_neutouch_1k/trial{trial}_{tool_length}_essentials.csv')\n",
    "    df_essentials = df_essentials[df_essentials.t <= df_raw.t.iloc[-1]]\n",
    "    tapped_times = df_essentials.t.values\n",
    "    interesting_taxels = [32, 22, 7, 17, 52, 42, 67, 77]\n",
    "    result = np.zeros((1, len(interesting_taxels) + 1))\n",
    "    \n",
    "    for i, tap_time in enumerate(tapped_times):\n",
    "        df_timespan = df_raw[(df_raw.t >= (tap_time - time_past)) & (df_raw.t < (tap_time + time_future))]\n",
    "        spikes = [len(df_timespan[(df_timespan.taxel==interesting_taxel) & (df_timespan.isPos==0)]) for interesting_taxel in interesting_taxels]\n",
    "        if df_essentials.label_y[i] < 0.02 or (df_essentials.label_y[i] > 0.08 and df_essentials.label_y[i] < 0.12) or (df_essentials.label_y[i] > 0.18 and df_essentials.label_y[i] < 0.22) or (df_essentials.label_y[i] > 0.28 and df_essentials.label_y[i] < 0.32) or (df_essentials.label_y[i] > 0.38 and df_essentials.label_y[i] < 0.42) or df_essentials.label_y[i] > 0.48:\n",
    "            continue\n",
    "        result = np.vstack((result, np.zeros((1, len(interesting_taxels) + 1))))\n",
    "        result[-1, :-1] = np.array(spikes)\n",
    "        result[-1, -1] = int(df_essentials.label_y[i] * 100) // 10\n",
    "\n",
    "    stats = np.zeros((2, len(interesting_taxels) + 1))\n",
    "    stats[0, :] = np.mean(result[result[:, -1] == 0], 0)\n",
    "    stats[1, :] = np.mean(result[result[:, -1] == 1], 0)\n",
    "#     stats[2, :] = np.mean(result[result[:, -1] == 2], 0)\n",
    "#     stats[3, :] = np.mean(result[result[:, -1] == 3], 0)\n",
    "#     stats[4, :] = np.mean(result[result[:, -1] == 4], 0)\n",
    "\n",
    "    return stats\n",
    "\n",
    "output = np.zeros((20, 9))\n",
    "for trial in range(1, 11):\n",
    "    output[2*(trial-1):2*trial] = get_stats(20, trial)"
   ]
  }
 ],
 "metadata": {
  "kernelspec": {
   "display_name": "Python 3",
   "language": "python",
   "name": "python3"
  },
  "language_info": {
   "codemirror_mode": {
    "name": "ipython",
    "version": 3
   },
   "file_extension": ".py",
   "mimetype": "text/x-python",
   "name": "python",
   "nbconvert_exporter": "python",
   "pygments_lexer": "ipython3",
   "version": "3.7.4"
  }
 },
 "nbformat": 4,
 "nbformat_minor": 5
}
