{
 "cells": [
  {
   "cell_type": "code",
   "execution_count": 1,
   "metadata": {},
   "outputs": [],
   "source": [
    "import pandas as pd\n",
    "import numpy as np\n",
    "import matplotlib.pyplot as plt\n",
    "from functools import partial\n",
    "from sklearn.model_selection import train_test_split, GridSearchCV, ShuffleSplit\n",
    "from sklearn.svm import SVR, SVC\n",
    "\n",
    "#torch.manual_seed(100)\n",
    "np.random.seed(100)"
   ]
  },
  {
   "cell_type": "code",
   "execution_count": 2,
   "metadata": {},
   "outputs": [],
   "source": [
    "# load prepprocessed data\n"
   ]
  },
  {
   "cell_type": "code",
   "execution_count": 3,
   "metadata": {},
   "outputs": [],
   "source": [
    "def _create_evaluator(estimator, param_grid, scoring, cv=4, N=5, callback=None):\n",
    "    \n",
    "    gs_estimator = GridSearchCV(estimator=estimator, param_grid=param_grid, scoring=scoring, cv=cv, n_jobs=-1, refit=True)\n",
    "    \n",
    "    def evaluate(X, y, verbose=True):\n",
    "        \n",
    "        test_losses = np.zeros(N)\n",
    "        \n",
    "        for n in range(N):\n",
    "            \n",
    "            X_train, X_test, y_train, y_test = train_test_split(X, y, test_size=0.1, random_state=n)\n",
    "            gs_estimator.fit(X_train, y_train)\n",
    "            test_loss = -gs_estimator.score(X_test, y_test)\n",
    "            test_losses[n] = test_loss\n",
    "            \n",
    "            if callback is not None: callback(gs_estimator, X_test, y_test)\n",
    "            if verbose: print('Iteration {:02d} | Test Loss = {:0.4f}'.format(n, test_loss))\n",
    "\n",
    "        return np.mean(test_losses), np.std(test_losses)\n",
    "\n",
    "    return evaluate"
   ]
  },
  {
   "cell_type": "code",
   "execution_count": 4,
   "metadata": {},
   "outputs": [],
   "source": [
    "def _load_tool(tool_length):\n",
    "    \n",
    "    npzfile=np.load(f'../preprocessed/neutouch_tool_{tool_length}.npz')\n",
    "    \n",
    "    X = npzfile['signals'] / 100\n",
    "    y = npzfile['labels'] * 100\n",
    "    \n",
    "    X = np.abs(np.fft.fft(X)) / 10\n",
    "    X = np.reshape(X, (X.shape[0], -1))\n",
    "    \n",
    "    print('Max,Min:', X.max(), X.min())\n",
    "\n",
    "    return X, y"
   ]
  },
  {
   "cell_type": "code",
   "execution_count": 5,
   "metadata": {},
   "outputs": [],
   "source": [
    "def _evaluate_tool_svm(tool_length, signal_type, transformation, kernel, frequency):\n",
    "\n",
    "    X, y = _load_tool(tool_length)\n",
    "    \n",
    "    param_grid = { 'C': [1, 3, 10, 30, 100] }\n",
    "    \n",
    "    estimator = SVR(kernel=kernel, max_iter=5000)\n",
    "    evaluate = _create_evaluator(estimator, param_grid, 'neg_mean_absolute_error')\n",
    "    \n",
    "    return evaluate(X, y)"
   ]
  },
  {
   "cell_type": "code",
   "execution_count": 6,
   "metadata": {},
   "outputs": [],
   "source": [
    "my_model = partial(_evaluate_tool_svm, 50, 'neutouch', 'default', 'rbf')"
   ]
  },
  {
   "cell_type": "code",
   "execution_count": null,
   "metadata": {},
   "outputs": [
    {
     "name": "stdout",
     "output_type": "stream",
     "text": [
      "Max,Min: 0.41255762992937806 0.0\n"
     ]
    }
   ],
   "source": [
    "my_model(frequency=4000)"
   ]
  },
  {
   "cell_type": "code",
   "execution_count": null,
   "metadata": {},
   "outputs": [],
   "source": []
  }
 ],
 "metadata": {
  "kernelspec": {
   "display_name": "Python 3",
   "language": "python",
   "name": "python3"
  },
  "language_info": {
   "codemirror_mode": {
    "name": "ipython",
    "version": 3
   },
   "file_extension": ".py",
   "mimetype": "text/x-python",
   "name": "python",
   "nbconvert_exporter": "python",
   "pygments_lexer": "ipython3",
   "version": "3.6.8"
  }
 },
 "nbformat": 4,
 "nbformat_minor": 2
}
