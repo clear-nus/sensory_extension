{
 "cells": [
  {
   "cell_type": "code",
   "execution_count": 30,
   "id": "precise-franchise",
   "metadata": {},
   "outputs": [],
   "source": [
    "import numpy as np\n",
    "from sklearn.svm import SVR, SVC\n",
    "from utils import read_neutouch_raw, infer, bin_neutouch_signal\n",
    "import pickle\n",
    "import glob\n",
    "import matplotlib.pyplot as plt"
   ]
  },
  {
   "cell_type": "code",
   "execution_count": 31,
   "id": "deadly-tattoo",
   "metadata": {},
   "outputs": [],
   "source": [
    "folders = ['rod20', 'rod30', 'rod40']"
   ]
  },
  {
   "cell_type": "code",
   "execution_count": 32,
   "id": "collectible-sailing",
   "metadata": {},
   "outputs": [],
   "source": [
    "fnames = glob.glob(f'{folders[0]}/*.tact')\n",
    "fnames.sort()"
   ]
  },
  {
   "cell_type": "code",
   "execution_count": 33,
   "id": "healthy-asset",
   "metadata": {},
   "outputs": [
    {
     "data": {
      "text/plain": [
       "['rod20/temp_signal0.tact',\n",
       " 'rod20/temp_signal1.tact',\n",
       " 'rod20/temp_signal2.tact',\n",
       " 'rod20/temp_signal3.tact',\n",
       " 'rod20/temp_signal4.tact',\n",
       " 'rod20/temp_signal5.tact',\n",
       " 'rod20/temp_signal6.tact',\n",
       " 'rod20/temp_signal7.tact',\n",
       " 'rod20/temp_signal8.tact',\n",
       " 'rod20/temp_signal9.tact']"
      ]
     },
     "execution_count": 33,
     "metadata": {},
     "output_type": "execute_result"
    }
   ],
   "source": [
    "fnames"
   ]
  },
  {
   "cell_type": "code",
   "execution_count": 54,
   "id": "velvet-wayne",
   "metadata": {},
   "outputs": [],
   "source": [
    "sample_df = read_neutouch_raw(fnames[9])"
   ]
  },
  {
   "cell_type": "code",
   "execution_count": 58,
   "id": "virgin-interest",
   "metadata": {},
   "outputs": [
    {
     "data": {
      "text/plain": [
       "0.559999942779541"
      ]
     },
     "execution_count": 58,
     "metadata": {},
     "output_type": "execute_result"
    }
   ],
   "source": [
    "sample_df.t.iloc[-1] - sample_df.t[0]"
   ]
  },
  {
   "cell_type": "code",
   "execution_count": 60,
   "id": "finished-dayton",
   "metadata": {},
   "outputs": [
    {
     "data": {
      "text/plain": [
       "[<matplotlib.lines.Line2D at 0x7f84105df210>]"
      ]
     },
     "execution_count": 60,
     "metadata": {},
     "output_type": "execute_result"
    },
    {
     "data": {
      "image/png": "[encoded data removed]",
      "text/plain": [
       "<Figure size 432x288 with 1 Axes>"
      ]
     },
     "metadata": {
      "needs_background": "light"
     },
     "output_type": "display_data"
    }
   ],
   "source": [
    "plt.plot( sample_df.t.values, sample_df.isPos.cumsum().values )"
   ]
  },
  {
   "cell_type": "code",
   "execution_count": null,
   "id": "confident-angola",
   "metadata": {},
   "outputs": [],
   "source": [
    "for tool_length in [20,30,50]:\n",
    "    npzfile = np.load(f'../preprocessed/neutouch_tool_{tool_length}.npz')\n",
    "    \n",
    "    X = npzfile['signals'] / 1000\n",
    "    y = npzfile['labels'] * 100\n",
    "\n",
    "    X = np.abs(np.fft.fft(X)) / 10\n",
    "    X = np.reshape(X, (X.shape[0], -1))\n",
    "\n",
    "    gs_estimator = pickle.load(open('tool' + str(tool_length) +'_fft_svmrbf.pkl', 'rb'))\n",
    "\n",
    "    print(f'MAE for tool length {tool_length} is {-gs_estimator.score(X, y)}')"
   ]
  },
  {
   "cell_type": "code",
   "execution_count": null,
   "id": "sexual-teens",
   "metadata": {},
   "outputs": [],
   "source": [
    "!unzip some_samples.zip"
   ]
  },
  {
   "cell_type": "code",
   "execution_count": null,
   "id": "extensive-compilation",
   "metadata": {},
   "outputs": [],
   "source": []
  }
 ],
 "metadata": {
  "kernelspec": {
   "display_name": "Python 3",
   "language": "python",
   "name": "python3"
  },
  "language_info": {
   "codemirror_mode": {
    "name": "ipython",
    "version": 3
   },
   "file_extension": ".py",
   "mimetype": "text/x-python",
   "name": "python",
   "nbconvert_exporter": "python",
   "pygments_lexer": "ipython3",
   "version": "3.7.4"
  }
 },
 "nbformat": 4,
 "nbformat_minor": 5
}
