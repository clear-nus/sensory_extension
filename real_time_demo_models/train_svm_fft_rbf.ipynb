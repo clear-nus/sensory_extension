{
 "cells": [
  {
   "cell_type": "code",
   "execution_count": 1,
   "metadata": {},
   "outputs": [],
   "source": [
    "import pandas as pd\n",
    "import numpy as np\n",
    "import matplotlib.pyplot as plt\n",
    "from functools import partial\n",
    "from sklearn.model_selection import train_test_split, GridSearchCV, ShuffleSplit\n",
    "from sklearn.svm import SVR, SVC\n",
    "\n",
    "#torch.manual_seed(100)\n",
    "np.random.seed(100)"
   ]
  },
  {
   "cell_type": "code",
   "execution_count": 2,
   "metadata": {},
   "outputs": [
    {
     "name": "stdout",
     "output_type": "stream",
     "text": [
      "(964, 80, 61)\n"
     ]
    }
   ],
   "source": [
    "# load prepprocessed data\n",
    "tool_length = 50\n",
    "npzfile = np.load(f'../preprocessed/neutouch_tool_{tool_length}.npz')\n",
    "\n",
    "# scale a bit\n",
    "X = npzfile['signals'] / 1000\n",
    "y = npzfile['labels'] * 100\n",
    "\n",
    "print(X.shape)\n",
    "\n",
    "# fft\n",
    "X = np.abs(np.fft.fft(X)) / 10\n",
    "X = np.reshape(X, (X.shape[0], -1))\n",
    "\n",
    "X_train, X_test, y_train, y_test = train_test_split(X, y, test_size=0.1, random_state=0)"
   ]
  },
  {
   "cell_type": "code",
   "execution_count": 3,
   "metadata": {},
   "outputs": [
    {
     "name": "stdout",
     "output_type": "stream",
     "text": [
      "2.725273412720616\n"
     ]
    }
   ],
   "source": [
    "estimator = SVR(kernel='rbf', max_iter=5000)\n",
    "param_grid = { 'C': [1, 3, 10, 30, 100] }\n",
    "gs_estimator = GridSearchCV(estimator=estimator, param_grid=param_grid,\n",
    "                            scoring='neg_mean_absolute_error',\n",
    "                            cv=4, n_jobs=-1, refit=True)\n",
    "gs_estimator.fit(X_train, y_train)\n",
    "test_loss = -gs_estimator.score(X_test, y_test)\n",
    "print(test_loss)"
   ]
  },
  {
   "cell_type": "code",
   "execution_count": 4,
   "metadata": {},
   "outputs": [],
   "source": [
    "import pickle\n",
    "pickle.dump(gs_estimator, open(f'tool{tool_length}_fft_svmrbf.pkl', 'wb'))"
   ]
  },
  {
   "cell_type": "code",
   "execution_count": 5,
   "metadata": {
    "scrolled": true
   },
   "outputs": [
    {
     "data": {
      "text/plain": [
       "SVR(C=30, max_iter=5000)"
      ]
     },
     "execution_count": 5,
     "metadata": {},
     "output_type": "execute_result"
    }
   ],
   "source": [
    "gs_estimator.best_estimator_"
   ]
  },
  {
   "cell_type": "code",
   "execution_count": null,
   "metadata": {},
   "outputs": [],
   "source": []
  }
 ],
 "metadata": {
  "kernelspec": {
   "display_name": "Python 3",
   "language": "python",
   "name": "python3"
  },
  "language_info": {
   "codemirror_mode": {
    "name": "ipython",
    "version": 3
   },
   "file_extension": ".py",
   "mimetype": "text/x-python",
   "name": "python",
   "nbconvert_exporter": "python",
   "pygments_lexer": "ipython3",
   "version": "3.7.4"
  }
 },
 "nbformat": 4,
 "nbformat_minor": 2
}
