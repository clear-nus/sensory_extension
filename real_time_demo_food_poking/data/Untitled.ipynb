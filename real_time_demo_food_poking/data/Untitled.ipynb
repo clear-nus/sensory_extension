{
 "cells": [
  {
   "cell_type": "code",
   "execution_count": 1,
   "id": "impossible-species",
   "metadata": {},
   "outputs": [
    {
     "name": "stdout",
     "output_type": "stream",
     "text": [
      "Archive:  demo_junk_result_apple_watermelon.zip\r\n",
      "  inflating: tofu_zero_1120_raw.tact  \r\n",
      "  inflating: tofu_zero_1120.tact     \r\n",
      "  inflating: watermelon_zero_1120_raw.tact  \r\n",
      "  inflating: watermelon_zero_1120.tact  \r\n",
      "  inflating: tofu_zero_1119_raw.tact  \r\n",
      "  inflating: tofu_zero_1119.tact     \r\n",
      "  inflating: watermelon_zero_1119_raw.tact  \r\n",
      "  inflating: watermelon_zero_1119.tact  \r\n",
      "  inflating: tofu_zero_1118_raw.tact  \r\n",
      "  inflating: tofu_zero_1118.tact     \r\n",
      "  inflating: watermelon_zero_1118_raw.tact  \r\n",
      "  inflating: watermelon_zero_1118.tact  \r\n",
      "  inflating: tofu_zero_1117_raw.tact  \r\n",
      "  inflating: tofu_zero_1117.tact     \r\n",
      "  inflating: watermelon_zero_1117_raw.tact  \r\n",
      "  inflating: watermelon_zero_1117.tact  \r\n",
      "  inflating: watermelon_zero_1116_raw.tact  \r\n",
      "  inflating: watermelon_zero_1116.tact  \r\n",
      "  inflating: tofu_zero_1116_raw.tact  \r\n",
      "  inflating: tofu_zero_1116.tact     \r\n",
      "  inflating: watermelon_zero_1115_raw.tact  \r\n",
      "  inflating: watermelon_zero_1115.tact  \r\n",
      "  inflating: tofu_zero_1115_raw.tact  \r\n",
      "  inflating: tofu_zero_1115.tact     \r\n",
      "  inflating: watermelon_zero_1114_raw.tact  \r\n",
      "  inflating: watermelon_zero_1114.tact  \r\n",
      "  inflating: tofu_zero_1114_raw.tact  \r\n",
      "  inflating: tofu_zero_1114.tact     \r\n",
      "  inflating: watermelon_zero_1113_raw.tact  \r\n",
      "  inflating: watermelon_zero_1113.tact  \r\n",
      "  inflating: tofu_zero_1113_raw.tact  \r\n",
      "  inflating: tofu_zero_1113.tact     \r\n",
      "  inflating: watermelon_zero_1112_raw.tact  \r\n",
      "  inflating: watermelon_zero_1112.tact  \r\n",
      "  inflating: tofu_zero_1112_raw.tact  \r\n",
      "  inflating: tofu_zero_1112.tact     \r\n"
     ]
    }
   ],
   "source": [
    "!unzip demo_junk_result_apple_watermelon.zip"
   ]
  },
  {
   "cell_type": "code",
   "execution_count": null,
   "id": "median-lithuania",
   "metadata": {},
   "outputs": [],
   "source": []
  }
 ],
 "metadata": {
  "kernelspec": {
   "display_name": "Python 3",
   "language": "python",
   "name": "python3"
  },
  "language_info": {
   "codemirror_mode": {
    "name": "ipython",
    "version": 3
   },
   "file_extension": ".py",
   "mimetype": "text/x-python",
   "name": "python",
   "nbconvert_exporter": "python",
   "pygments_lexer": "ipython3",
   "version": "3.7.4"
  }
 },
 "nbformat": 4,
 "nbformat_minor": 5
}
